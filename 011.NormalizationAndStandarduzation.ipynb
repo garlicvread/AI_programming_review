{
 "cells": [
  {
   "attachments": {},
   "cell_type": "markdown",
   "metadata": {},
   "source": [
    "# Data preprocessing\n",
    "## 1. 수치형 자료 정규화(Nomalization of numerical data)\n",
    "\n",
    "수치형 자료의 가장 기본적인 정규화는 다음 식을 따른다.\n",
    "\n",
    "$${X - X_{min}} \\over {X_{max} - X_{min}}$$"
   ]
  },
  {
   "cell_type": "code",
   "execution_count": 1,
   "metadata": {},
   "outputs": [],
   "source": [
    "import pandas as pd"
   ]
  },
  {
   "cell_type": "code",
   "execution_count": 2,
   "metadata": {},
   "outputs": [],
   "source": [
    "# 정규화 함수 작성(Create a normalization function)\n",
    "def normal(data):\n",
    "    data = (data - data.min()) / (data.max() - data.min())\n",
    "    return data"
   ]
  },
  {
   "cell_type": "code",
   "execution_count": 3,
   "metadata": {},
   "outputs": [],
   "source": [
    "# Read the titanic data\n",
    "titanic = pd.read_csv('titanic.csv')"
   ]
  },
  {
   "cell_type": "code",
   "execution_count": 4,
   "metadata": {},
   "outputs": [
    {
     "name": "stdout",
     "output_type": "stream",
     "text": [
      "Titanic: before nomalization \n",
      " 0     7.2500\n",
      "1    71.2833\n",
      "2     7.9250\n",
      "3    53.1000\n",
      "4     8.0500\n",
      "Name: Fare, dtype: float64\n"
     ]
    }
   ],
   "source": [
    "# Check the data before normalization\n",
    "print(\"Titanic: before nomalization\", \"\\n\", titanic[\"Fare\"].head())"
   ]
  },
  {
   "cell_type": "code",
   "execution_count": 5,
   "metadata": {},
   "outputs": [],
   "source": [
    "# Normalization\n",
    "Fare = normal(titanic[\"Fare\"])"
   ]
  },
  {
   "cell_type": "code",
   "execution_count": 6,
   "metadata": {},
   "outputs": [
    {
     "name": "stdout",
     "output_type": "stream",
     "text": [
      "Titanic: after nomalization \n",
      " 0    0.014151\n",
      "1    0.139136\n",
      "2    0.015469\n",
      "3    0.103644\n",
      "4    0.015713\n",
      "Name: Fare, dtype: float64\n"
     ]
    }
   ],
   "source": [
    "# Print the normalized data\n",
    "print(\"Titanic: after nomalization\", \"\\n\", Fare.head())"
   ]
  },
  {
   "attachments": {},
   "cell_type": "markdown",
   "metadata": {},
   "source": [
    "## 2. 수치형 자료 표준화(Standardization of numerical data)\n",
    "\n",
    "표준화는 어떤 수치형 자료의 범위를 다른 수치형 자료의 범위와 일치하기 위한 작업이다.\n",
    "\n",
    "표준화는 다음 식을 따른다.\n",
    "\n",
    "$${X - \\mu} \\over {\\sigma}"
   ]
  },
  {
   "cell_type": "code",
   "execution_count": 7,
   "metadata": {},
   "outputs": [],
   "source": [
    "# import pandas\n",
    "import pandas as pd\n"
   ]
  },
  {
   "cell_type": "code",
   "execution_count": 8,
   "metadata": {},
   "outputs": [],
   "source": [
    "# 표준화 함수 작성(Create a standardization function)\n",
    "def standard(data):\n",
    "    data = (data - data.mean()) / data.std()\n",
    "    return data"
   ]
  },
  {
   "cell_type": "code",
   "execution_count": 9,
   "metadata": {},
   "outputs": [],
   "source": [
    "# Read the titanic data\n",
    "titanic = pd.read_csv('titanic.csv')"
   ]
  },
  {
   "cell_type": "code",
   "execution_count": 10,
   "metadata": {},
   "outputs": [
    {
     "name": "stdout",
     "output_type": "stream",
     "text": [
      "Titanic: before standardization \n",
      " 0     7.2500\n",
      "1    71.2833\n",
      "2     7.9250\n",
      "3    53.1000\n",
      "4     8.0500\n",
      "Name: Fare, dtype: float64\n"
     ]
    }
   ],
   "source": [
    "# Check the data before standardization\n",
    "print(\"Titanic: before standardization\", \"\\n\", titanic[\"Fare\"].head())"
   ]
  },
  {
   "cell_type": "code",
   "execution_count": 11,
   "metadata": {},
   "outputs": [],
   "source": [
    "# Standardization\n",
    "Fare = standard(titanic[\"Fare\"])"
   ]
  },
  {
   "cell_type": "code",
   "execution_count": 12,
   "metadata": {},
   "outputs": [
    {
     "name": "stdout",
     "output_type": "stream",
     "text": [
      "Titanic: after standardization \n",
      " 0   -0.502163\n",
      "1    0.786404\n",
      "2   -0.488580\n",
      "3    0.420494\n",
      "4   -0.486064\n",
      "Name: Fare, dtype: float64\n"
     ]
    }
   ],
   "source": [
    "# Print the standardized data\n",
    "print(\"Titanic: after standardization\", \"\\n\", Fare.head())"
   ]
  },
  {
   "cell_type": "code",
   "execution_count": null,
   "metadata": {},
   "outputs": [],
   "source": []
  }
 ],
 "metadata": {
  "kernelspec": {
   "display_name": "Python 3.11.0 64-bit",
   "language": "python",
   "name": "python3"
  },
  "language_info": {
   "codemirror_mode": {
    "name": "ipython",
    "version": 3
   },
   "file_extension": ".py",
   "mimetype": "text/x-python",
   "name": "python",
   "nbconvert_exporter": "python",
   "pygments_lexer": "ipython3",
   "version": "3.11.0"
  },
  "orig_nbformat": 4,
  "vscode": {
   "interpreter": {
    "hash": "5c7b89af1651d0b8571dde13640ecdccf7d5a6204171d6ab33e7c296e100e08a"
   }
  }
 },
 "nbformat": 4,
 "nbformat_minor": 2
}
