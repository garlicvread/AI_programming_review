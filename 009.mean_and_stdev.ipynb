{
 "cells": [
  {
   "cell_type": "markdown",
   "metadata": {},
   "source": [
    "# 산술평균(mean)\n",
    "\n",
    "np.mean()"
   ]
  },
  {
   "cell_type": "code",
   "execution_count": 1,
   "metadata": {},
   "outputs": [],
   "source": [
    "import numpy as np"
   ]
  },
  {
   "cell_type": "code",
   "execution_count": 2,
   "metadata": {},
   "outputs": [
    {
     "name": "stdout",
     "output_type": "stream",
     "text": [
      "Mean_1 : 157.42\n",
      "Mean_2 : 157.42\n"
     ]
    }
   ],
   "source": [
    "coffee = np.array([202, 177, 121, 148, 89, 121, 137, 158, 198, 167, 172, 199])\n",
    "\n",
    "\"\"\" Calculate the mean of coffee \"\"\"\n",
    "coffee_mean_1 = coffee.mean()  # This line is the same with the next line\n",
    "coffee_mean_2 = np.mean(coffee)\n",
    "\n",
    "# Round coffee_mean_1 and coffee_mean_2 to second decimal place\n",
    "print(\"Mean_1 :\", round(coffee_mean_1, 2))\n",
    "print(\"Mean_2 :\", round(coffee_mean_2, 2))"
   ]
  },
  {
   "cell_type": "markdown",
   "metadata": {},
   "source": [
    "# 표준편차(standard deviation)\n",
    "\n",
    "stdev()"
   ]
  },
  {
   "cell_type": "code",
   "execution_count": 3,
   "metadata": {},
   "outputs": [
    {
     "name": "stdout",
     "output_type": "stream",
     "text": [
      "Coffee_std_1:  34.02\n",
      "Coffee_std_2:  34.02\n"
     ]
    }
   ],
   "source": [
    "\"\"\" Calculate the standard deviation of coffee \"\"\"\n",
    "coffee_std_1 = coffee.std()  # std() is a numpy function\n",
    "coffee_std_2 = np.std(coffee)\n",
    "\n",
    "# Round coffee_std_1 and coffee_std_2 to second decimal place\n",
    "print(\"Coffee_std_1: \", round(coffee_std_1, 2))\n",
    "print(\"Coffee_std_2: \", round(coffee_std_2, 2))"
   ]
  },
  {
   "cell_type": "markdown",
   "metadata": {},
   "source": []
  }
 ],
 "metadata": {
  "kernelspec": {
   "display_name": "Python 3.11.0 64-bit",
   "language": "python",
   "name": "python3"
  },
  "language_info": {
   "codemirror_mode": {
    "name": "ipython",
    "version": 3
   },
   "file_extension": ".py",
   "mimetype": "text/x-python",
   "name": "python",
   "nbconvert_exporter": "python",
   "pygments_lexer": "ipython3",
   "version": "3.11.0"
  },
  "orig_nbformat": 4,
  "vscode": {
   "interpreter": {
    "hash": "5c7b89af1651d0b8571dde13640ecdccf7d5a6204171d6ab33e7c296e100e08a"
   }
  }
 },
 "nbformat": 4,
 "nbformat_minor": 2
}
