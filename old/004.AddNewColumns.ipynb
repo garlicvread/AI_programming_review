{
 "cells": [
  {
   "cell_type": "markdown",
   "metadata": {
    "collapsed": false
   },
   "source": [
    "# 데이터 프레임에 새 컬럼 추가\n",
    "1. 국가별 GDP 시리즈 데이터와 국가별 인구 시리즈 데이터를 이용해 만든 country 데이터프레임 활용하여 새 컬럼 생성\n",
    "\n",
    "2. 1인당 GDP 를 의미하는 새로운 컬럼인 gdp per capita를 데이터 프레임에 추가\n",
    "\n",
    "※ 1인당 GDP는 gdp를 population으로 나누어 얻을 수 있다.\n",
    "※ 완성한 데이터 프레임을 출력해 보자."
   ]
  },
  {
   "cell_type": "code",
   "execution_count": 1,
   "metadata": {
    "collapsed": false
   },
   "outputs": [],
   "source": [
    "import numpy as np\n",
    "import pandas as pd"
   ]
  },
  {
   "cell_type": "code",
   "execution_count": 2,
   "metadata": {
    "collapsed": true
   },
   "outputs": [
    {
     "name": "stdout",
     "output_type": "stream",
     "text": [
      "Country DataFrame\n",
      "       population         gdp\n",
      "korea        5180   169320000\n",
      "japan       12718   516700000\n",
      "china      141500  1409250000\n",
      "usa         32676  2041280000 \n",
      "\n",
      "       population         gdp  gdp per capita\n",
      "korea        5180   169320000    32687.258687\n",
      "japan       12718   516700000    40627.457147\n",
      "china      141500  1409250000     9959.363958\n",
      "usa         32676  2041280000    62470.314604\n"
     ]
    }
   ],
   "source": [
    "# GDP와 인구수 시리즈 값이 들어간 데이터 프레임 생성\n",
    "population = pd.Series({\n",
    "    'korea': 5180,\n",
    "    'japan': 12718,\n",
    "    'china': 141500,\n",
    "    'usa': 32676\n",
    "})\n",
    "\n",
    "gdp = pd.Series({\n",
    "    'korea': 169320000,\n",
    "    'japan': 516700000,\n",
    "    'china': 1409250000,\n",
    "    'usa': 2041280000\n",
    "})\n",
    "print(\"Country DataFrame\")\n",
    "\n",
    "country = pd.DataFrame({\n",
    "    \"population\" : population,\n",
    "    \"gdp\" : gdp\n",
    "})\n",
    "print(country, \"\\n\")\n",
    "\n",
    "# 데이터 프레임에 \"gdp per capita\" 컬럼 추가 및 출력\n",
    "gdp_per_pop = country[\"gdp\"] / country[\"population\"]\n",
    "country[\"gdp per capita\"] = gdp_per_pop\n",
    "print(country)"
   ]
  },
  {
   "cell_type": "code",
   "execution_count": null,
   "metadata": {
    "collapsed": false
   },
   "outputs": [],
   "source": []
  }
 ],
 "metadata": {
  "kernelspec": {
   "display_name": "Python 3",
   "language": "python",
   "name": "python3"
  },
  "language_info": {
   "codemirror_mode": {
    "name": "ipython",
    "version": 2
   },
   "file_extension": ".py",
   "mimetype": "text/x-python",
   "name": "python",
   "nbconvert_exporter": "python",
   "pygments_lexer": "ipython2",
   "version": "2.7.6"
  }
 },
 "nbformat": 4,
 "nbformat_minor": 0
}
