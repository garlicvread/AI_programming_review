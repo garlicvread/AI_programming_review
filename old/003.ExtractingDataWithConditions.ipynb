{
 "cells": [
  {
   "cell_type": "markdown",
   "metadata": {
    "collapsed": false
   },
   "source": [
    "# 조건을 만족하는 값 추출\n",
    "\n",
    "데이터 프레임에서 각각의 column으로부터 조건을 만족하는 값만 추출할 수 있다.\n",
    "\n",
    "Numpy의 마스킹(masking) 연산과 같이 조건식을 직접 쓸 수도 있고,\n",
    "query() 함수를 이용할 수도 있다.\n",
    "\n",
    "데이터 프레임 내에서 원하는 데이터를 조건에 따라 검색해 보자.\n",
    "\n",
    "A컬럼 값이 0.5보다 작고 B컬럼 값이 0.3보다 큰 값들을 마스킹 연산을 활용하여 출력해 보자.\n",
    "\n",
    "같은 조건의 값들을 query 함수를 활용하여 출력해보자."
   ]
  },
  {
   "cell_type": "code",
   "execution_count": 1,
   "metadata": {
    "collapsed": false
   },
   "outputs": [],
   "source": [
    "import numpy as np\n",
    "import pandas as pd"
   ]
  },
  {
   "cell_type": "code",
   "execution_count": 2,
   "metadata": {
    "collapsed": false
   },
   "outputs": [
    {
     "name": "stdout",
     "output_type": "stream",
     "text": [
      "Masking & query\n",
      "          A         B\n",
      "0  0.888096  0.275565\n",
      "1  0.340638  0.337735\n",
      "2  0.144111  0.164649\n",
      "3  0.214791  0.408649\n",
      "4  0.795787  0.195064 \n",
      "\n",
      "          A         B\n",
      "1  0.340638  0.337735\n",
      "3  0.214791  0.408649 \n",
      "\n",
      "          A         B\n",
      "1  0.340638  0.337735\n",
      "3  0.214791  0.408649\n"
     ]
    }
   ],
   "source": [
    "print(\"Masking & query\")\n",
    "df = pd.DataFrame(np.random.rand(5, 2), columns=[\"A\", \"B\"])\n",
    "print(df, \"\\n\")\n",
    "\n",
    "# 데이터 프레임에서 A 컬럼 값이 0.5보다 작고 B컬럼 값이 0.3보다 큰 값을 구할 것\n",
    "# 마스킹 연산 활용\n",
    "print(df[(df['A'] < 0.5 ) & (df['B'] > 0.3)], \"\\n\")\n",
    "\n",
    "# query 함수 활용\n",
    "print(df.query(\"A<0.5 and B>0.3\")) # \"A<0.5 and B>0.3\" 쿼리를 사용하세요."
   ]
  },
  {
   "cell_type": "code",
   "execution_count": null,
   "metadata": {
    "collapsed": false
   },
   "outputs": [],
   "source": []
  }
 ],
 "metadata": {
  "kernelspec": {
   "display_name": "Python 3",
   "language": "python",
   "name": "python3"
  },
  "language_info": {
   "codemirror_mode": {
    "name": "ipython",
    "version": 3
   },
   "file_extension": ".py",
   "mimetype": "text/x-python",
   "name": "python",
   "nbconvert_exporter": "python",
   "pygments_lexer": "ipython3",
   "version": "3.9.6 (default, Oct 18 2022, 12:41:40) \n[Clang 14.0.0 (clang-1400.0.29.202)]"
  },
  "vscode": {
   "interpreter": {
    "hash": "31f2aee4e71d21fbe5cf8b01ff0e069b9275f58929596ceb00d14d90e3e16cd6"
   }
  }
 },
 "nbformat": 4,
 "nbformat_minor": 0
}
