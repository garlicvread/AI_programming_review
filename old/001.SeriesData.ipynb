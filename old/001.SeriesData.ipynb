{
 "cells": [
  {
   "cell_type": "markdown",
   "metadata": {
    "collapsed": false
   },
   "source": [
    "# Series 데이터\n",
    "Series 데이터는 Numpy의 array가 보강된 형태로, Data와 index를 가지고 있는 데이터 형식이다.\n",
    "\n",
    "딕셔너리를 이용해서 인덱스와 값을 지정하여 Series 데이터를 직접 만들어 보자.\n",
    "\n",
    "딕셔너리의 값은 다음과 같다.<br><br>\n",
    "\n",
    "### 예시\n",
    "korea : 5180\n",
    "japan : 12718\n",
    "china : 141500\n",
    "usa : 32676"
   ]
  },
  {
   "cell_type": "markdown",
   "metadata": {
    "collapsed": false
   },
   "source": [
    "1. 딕셔너리를 이용하여 국가별 인구 수 데이터를 시리즈로 만들어 country라는 변수에 저장\n",
    "2. country 변수 출력<br><br>\n",
    "\n",
    "### 참고\n",
    "pandas의 Series 객체를 만들기 위해\n",
    "1. ‘값’과 ‘인덱스’ 매개변수를 각각 넣어주는 방법도 있고,\n",
    "2. 딕셔너리를 매개변수로 넣어줄 수도 있다."
   ]
  },
  {
   "cell_type": "code",
   "execution_count": 1,
   "metadata": {
    "collapsed": false
   },
   "outputs": [],
   "source": [
    "import numpy as np\n",
    "import pandas as pd"
   ]
  },
  {
   "cell_type": "code",
   "execution_count": 2,
   "metadata": {
    "collapsed": false
   },
   "outputs": [
    {
     "name": "stdout",
     "output_type": "stream",
     "text": [
      "korea      5180\n",
      "japan     12718\n",
      "china    141500\n",
      "usa       32676\n",
      "Name: country, dtype: int64 \n",
      "\n"
     ]
    }
   ],
   "source": [
    "\"\"\"\n",
    "예시) 시리즈 데이터를 만드는 방법.\n",
    "\n",
    "series = pd.Series(\n",
    "    [1, 2, 3, 4],\n",
    "    index = ['a', 'b', 'c', 'd'],\n",
    "    name = \"Title\"\n",
    ")\n",
    "print(series, \"\\n\")\n",
    "\"\"\"\n",
    "\n",
    "# 딕셔너리를 이용하여 국가별 인구 수 시리즈 생성\n",
    "country = pd.Series(\n",
    "    [5180, 12718, 141500, 32676],\n",
    "    index = ['korea', 'japan', 'china', 'usa'],\n",
    "    name = \"country\"\n",
    ")\n",
    "print(country, \"\\n\")"
   ]
  },
  {
   "cell_type": "code",
   "execution_count": null,
   "metadata": {
    "collapsed": false
   },
   "outputs": [],
   "source": []
  }
 ],
 "metadata": {
  "kernelspec": {
   "display_name": "Python 3",
   "language": "python",
   "name": "python3"
  },
  "language_info": {
   "codemirror_mode": {
    "name": "ipython",
    "version": 2
   },
   "file_extension": ".py",
   "mimetype": "text/x-python",
   "name": "python",
   "nbconvert_exporter": "python",
   "pygments_lexer": "ipython2",
   "version": "3.9.6 (default, Oct 18 2022, 12:41:40) \n[Clang 14.0.0 (clang-1400.0.29.202)]"
  },
  "vscode": {
   "interpreter": {
    "hash": "31f2aee4e71d21fbe5cf8b01ff0e069b9275f58929596ceb00d14d90e3e16cd6"
   }
  }
 },
 "nbformat": 4,
 "nbformat_minor": 0
}
