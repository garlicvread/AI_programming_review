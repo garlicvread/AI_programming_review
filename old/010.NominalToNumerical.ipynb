{
 "cells": [
  {
   "cell_type": "markdown",
   "metadata": {},
   "source": [
    "# Data preprocessing\n",
    "## 1. 명목형 자료를 수치형 자료로(Nominal data to numerical data): 수치 맵핑(numerical mapping)\n",
    "\n",
    "명목형 자료를 머신 러닝에서 활용하려면 해당 자료를 수치형으로 변환해야 한다.\n",
    "\n",
    "titanic.csv 데이터의 범주형 자료 성별(Sex) 데이터는 male, female 값을 갖는다.<br>\n",
    "이를 각각 0, 1 로 변환하여 수치형 자료화해 보자.<br>\n",
    "\n",
    "pandas의 DataFrame에서 이 과정을 수행하려면 replace()를 사용하면 된다.<br>\n",
    "예컨대 다음 코드는 A -> B, C -> D 변환 코드이다.<br>\n",
    "\n",
    "> DataFrame.replace({A:B, C:D,...})"
   ]
  },
  {
   "cell_type": "code",
   "execution_count": 1,
   "metadata": {},
   "outputs": [],
   "source": [
    "import pandas as pd"
   ]
  },
  {
   "cell_type": "code",
   "execution_count": 2,
   "metadata": {},
   "outputs": [
    {
     "name": "stdout",
     "output_type": "stream",
     "text": [
      "Titanic Data \n",
      "    PassengerId  Survived  Pclass  \\\n",
      "0            1         0       3   \n",
      "1            2         1       1   \n",
      "2            3         1       3   \n",
      "3            4         1       1   \n",
      "4            5         0       3   \n",
      "\n",
      "                                                Name     Sex   Age  SibSp  \\\n",
      "0                            Braund, Mr. Owen Harris    male  22.0      1   \n",
      "1  Cumings, Mrs. John Bradley (Florence Briggs Th...  female  38.0      1   \n",
      "2                             Heikkinen, Miss. Laina  female  26.0      0   \n",
      "3       Futrelle, Mrs. Jacques Heath (Lily May Peel)  female  35.0      1   \n",
      "4                           Allen, Mr. William Henry    male  35.0      0   \n",
      "\n",
      "   Parch            Ticket     Fare Cabin Embarked  \n",
      "0      0         A/5 21171   7.2500   NaN        S  \n",
      "1      0          PC 17599  71.2833   C85        C  \n",
      "2      0  STON/O2. 3101282   7.9250   NaN        S  \n",
      "3      0            113803  53.1000  C123        S  \n",
      "4      0            373450   8.0500   NaN        S   \n",
      "\n",
      "Titanic, Sex \n",
      " 0      male\n",
      "1    female\n",
      "2    female\n",
      "3    female\n",
      "4      male\n",
      "Name: Sex, dtype: object \n",
      "\n"
     ]
    }
   ],
   "source": [
    "# read data: titanic.csv\n",
    "titanic = pd.read_csv('titanic.csv')\n",
    "\n",
    "# Check data\n",
    "print(\"Titanic Data\", \"\\n\", titanic.head(), '\\n')\n",
    "print(\"Titanic, Sex\", \"\\n\", titanic['Sex'].head(), '\\n')"
   ]
  },
  {
   "cell_type": "code",
   "execution_count": 3,
   "metadata": {},
   "outputs": [],
   "source": [
    "# male -> 0, female -> 1 mapping\n",
    "titanic_mapping = titanic.replace({\"male\":0, \"female\":1})"
   ]
  },
  {
   "cell_type": "code",
   "execution_count": 4,
   "metadata": {},
   "outputs": [
    {
     "name": "stdout",
     "output_type": "stream",
     "text": [
      "Converted Data, Titanic, Sex \n",
      " 0    0\n",
      "1    1\n",
      "2    1\n",
      "3    1\n",
      "4    0\n",
      "Name: Sex, dtype: int64 \n",
      "\n"
     ]
    }
   ],
   "source": [
    "# Print converted data\n",
    "print(\"Converted Data, Titanic, Sex\", \"\\n\", titanic_mapping[\"Sex\"].head(), '\\n')"
   ]
  },
  {
   "cell_type": "markdown",
   "metadata": {},
   "source": [
    "## 2. 명목형 자료를 수치형 자료로(Nominal data to numeric data): 더미(dummy)\n",
    "\n",
    "titanic.csv 데이터의 범주형 자료인 Embarked 데이터는 S, Q, C의 3가지 값을 갖는다.<br>\n",
    "\n",
    "pandas의 DataFrame에서 이 자료를 수치형 자료로 변환할 때 더미 방식을 활용할 수 있다.<br>\n",
    "이 때, get_dummies()를 사용할 수 있다.<br>\n",
    "\n",
    "pd.get_dummies(DataFrame[[변수명]])"
   ]
  },
  {
   "cell_type": "code",
   "execution_count": 5,
   "metadata": {},
   "outputs": [
    {
     "name": "stdout",
     "output_type": "stream",
     "text": [
      "Titanic, Embarked \n",
      " 0    S\n",
      "1    C\n",
      "2    S\n",
      "3    S\n",
      "4    S\n",
      "Name: Embarked, dtype: object \n",
      "\n",
      "Converted Data: Titanic, Embarked \n",
      "    C  Q  S\n",
      "0  0  0  1\n",
      "1  1  0  0\n",
      "2  0  0  1\n",
      "3  0  0  1\n",
      "4  0  0  1 \n",
      "\n"
     ]
    }
   ],
   "source": [
    "# Check data\n",
    "print(\"Titanic, Embarked\", \"\\n\", titanic['Embarked'].head(), '\\n')\n",
    "\n",
    "# Conversion using get_dummies\n",
    "dummies = pd.get_dummies(titanic['Embarked'])\n",
    "\n",
    "# Print converted data\n",
    "print('Converted Data: Titanic, Embarked', '\\n', dummies.head(), '\\n')\n"
   ]
  },
  {
   "cell_type": "code",
   "execution_count": null,
   "metadata": {},
   "outputs": [],
   "source": []
  }
 ],
 "metadata": {
  "kernelspec": {
   "display_name": "Python 3",
   "language": "python",
   "name": "python3"
  },
  "language_info": {
   "codemirror_mode": {
    "name": "ipython",
    "version": 3
   },
   "file_extension": ".py",
   "mimetype": "text/x-python",
   "name": "python",
   "nbconvert_exporter": "python",
   "pygments_lexer": "ipython3",
   "version": "3.9.6 (default, Oct 18 2022, 12:41:40) \n[Clang 14.0.0 (clang-1400.0.29.202)]"
  },
  "orig_nbformat": 4,
  "vscode": {
   "interpreter": {
    "hash": "31f2aee4e71d21fbe5cf8b01ff0e069b9275f58929596ceb00d14d90e3e16cd6"
   }
  }
 },
 "nbformat": 4,
 "nbformat_minor": 2
}
