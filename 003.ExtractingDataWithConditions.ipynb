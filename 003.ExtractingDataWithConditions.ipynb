{
 "cells": [
  {
   "cell_type": "markdown",
   "source": [
    "# 조건을 만족하는 값 추출\n",
    "\n",
    "데이터 프레임에서 각각의 column으로부터 조건을 만족하는 값만 추출할 수 있다.\n",
    "\n",
    "Numpy의 마스킹(masking) 연산과 같이 조건식을 직접 쓸 수도 있고,\n",
    "query() 함수를 이용할 수도 있다.\n",
    "\n",
    "데이터 프레임 내에서 원하는 데이터를 조건에 따라 검색해 보자.\n",
    "\n",
    "A컬럼 값이 0.5보다 작고 B컬럼 값이 0.3보다 큰 값들을 마스킹 연산을 활용하여 출력해 보자.\n",
    "\n",
    "같은 조건의 값들을 query 함수를 활용하여 출력해보자."
   ],
   "metadata": {
    "collapsed": false
   }
  },
  {
   "cell_type": "code",
   "execution_count": 1,
   "outputs": [],
   "source": [
    "import numpy as np\n",
    "import pandas as pd"
   ],
   "metadata": {
    "collapsed": false
   }
  },
  {
   "cell_type": "code",
   "execution_count": 2,
   "outputs": [
    {
     "name": "stdout",
     "output_type": "stream",
     "text": [
      "Masking & query\n",
      "          A         B\n",
      "0  0.500880  0.097853\n",
      "1  0.482116  0.144622\n",
      "2  0.468250  0.085092\n",
      "3  0.928276  0.775736\n",
      "4  0.871665  0.845304 \n",
      "\n",
      "Empty DataFrame\n",
      "Columns: [A, B]\n",
      "Index: [] \n",
      "\n",
      "Empty DataFrame\n",
      "Columns: [A, B]\n",
      "Index: []\n"
     ]
    }
   ],
   "source": [
    "print(\"Masking & query\")\n",
    "df = pd.DataFrame(np.random.rand(5, 2), columns=[\"A\", \"B\"])\n",
    "print(df, \"\\n\")\n",
    "\n",
    "# 데이터 프레임에서 A 컬럼 값이 0.5보다 작고 B컬럼 값이 0.3보다 큰 값을 구할 것\n",
    "# 마스킹 연산 활용\n",
    "print(df[(df['A'] < 0.5 ) & (df['B'] > 0.3)], \"\\n\")\n",
    "\n",
    "# query 함수 활용\n",
    "print(df.query(\"A<0.5 and B>0.3\")) # \"A<0.5 and B>0.3\" 쿼리를 사용하세요."
   ],
   "metadata": {
    "collapsed": false
   }
  },
  {
   "cell_type": "code",
   "execution_count": null,
   "outputs": [],
   "source": [],
   "metadata": {
    "collapsed": false
   }
  }
 ],
 "metadata": {
  "kernelspec": {
   "display_name": "Python 3",
   "language": "python",
   "name": "python3"
  },
  "language_info": {
   "codemirror_mode": {
    "name": "ipython",
    "version": 2
   },
   "file_extension": ".py",
   "mimetype": "text/x-python",
   "name": "python",
   "nbconvert_exporter": "python",
   "pygments_lexer": "ipython2",
   "version": "2.7.6"
  }
 },
 "nbformat": 4,
 "nbformat_minor": 0
}
