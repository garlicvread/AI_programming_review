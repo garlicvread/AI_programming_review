{
 "cells": [
  {
   "cell_type": "markdown",
   "source": [
    "# 데이터 프레임\n",
    "시리즈 데이터는 하나의 컬럼 값으로 이루어진 반면, 데이터 프레임은 여러 개의 컬럼 값을 가질 수 있다.\n",
    "\n",
    "국가별 GDP 시리즈 데이터와 국가별 인구 시리즈 데이터를 이용하여 GDP와 인구 데이터를 모두 나타내는 데이터 프레임을 만들어 보자.\n",
    "\n",
    "국가별 인구를 나타내는 시리즈 데이터인 population과 국가별 GDP를 나타내는 시리즈 데이터인 gdp가 있다.\n",
    "각각의 시리즈 데이터는 다음과 같은 값을 갖는다.<br><br>\n",
    "### Population\n",
    "'korea': 5180\n",
    "'japan': 12718\n",
    "'china': 141500\n",
    "'usa': 32676<br><br>\n",
    "\n",
    "### GDP\n",
    "'korea': 169320000\n",
    "'japan': 516700000\n",
    "'china': 1409250000\n",
    "'usa': 2041280000<br><br>\n",
    "\n",
    "두 시리즈 데이터를 이용하여 country라는 데이터 프레임을 만들고, 출력해 보자.\n",
    "※ 데이터 프레임 country의 인덱스, 컬럼도 확인해 보자."
   ],
   "metadata": {
    "collapsed": false
   }
  },
  {
   "cell_type": "code",
   "execution_count": 2,
   "metadata": {
    "collapsed": true
   },
   "outputs": [
    {
     "name": "stdout",
     "output_type": "stream",
     "text": [
      "Population series data:\n",
      "korea      5180\n",
      "japan     12718\n",
      "china    141500\n",
      "usa       32676\n",
      "dtype: int64 \n",
      "\n",
      "GDP series data:\n",
      "korea     169320000\n",
      "japan     516700000\n",
      "china    1409250000\n",
      "usa      2041280000\n",
      "dtype: int64 \n",
      "\n",
      "Country DataFrame\n",
      "       population         gdp\n",
      "korea        5180   169320000\n",
      "japan       12718   516700000\n",
      "china      141500  1409250000\n",
      "usa         32676  2041280000\n"
     ]
    }
   ],
   "source": [
    "import numpy as np\n",
    "import pandas as pd\n",
    "\n",
    "print(\"Population series data:\")\n",
    "\n",
    "population_dict = {\n",
    "    'korea': 5180,\n",
    "    'japan': 12718,\n",
    "    'china': 141500,\n",
    "    'usa': 32676\n",
    "}\n",
    "\n",
    "population = pd.Series(population_dict)\n",
    "print(population, \"\\n\")\n",
    "\n",
    "print(\"GDP series data:\")\n",
    "\n",
    "gdp_dict = {\n",
    "    'korea': 169320000,\n",
    "    'japan': 516700000,\n",
    "    'china': 1409250000,\n",
    "    'usa': 2041280000,\n",
    "}\n",
    "\n",
    "gdp = pd.Series(gdp_dict)\n",
    "print(gdp, \"\\n\")\n",
    "\n",
    "# 2개의 시리즈 값을 포함하는 데이터 프레임 생성\n",
    "print(\"Country DataFrame\")\n",
    "\n",
    "country = pd.DataFrame({\n",
    "    \"population\" : population,\n",
    "    \"gdp\" : gdp\n",
    "})\n",
    "\n",
    "print(country)"
   ]
  },
  {
   "cell_type": "code",
   "execution_count": null,
   "outputs": [],
   "source": [],
   "metadata": {
    "collapsed": false
   }
  }
 ],
 "metadata": {
  "kernelspec": {
   "display_name": "Python 3",
   "language": "python",
   "name": "python3"
  },
  "language_info": {
   "codemirror_mode": {
    "name": "ipython",
    "version": 2
   },
   "file_extension": ".py",
   "mimetype": "text/x-python",
   "name": "python",
   "nbconvert_exporter": "python",
   "pygments_lexer": "ipython2",
   "version": "2.7.6"
  }
 },
 "nbformat": 4,
 "nbformat_minor": 0
}
