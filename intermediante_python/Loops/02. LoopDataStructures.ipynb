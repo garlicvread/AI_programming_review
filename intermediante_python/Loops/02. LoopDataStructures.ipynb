{
 "cells": [
  {
   "attachments": {},
   "cell_type": "markdown",
   "metadata": {},
   "source": [
    "## Case 1: Dictionary"
   ]
  },
  {
   "cell_type": "code",
   "execution_count": 1,
   "metadata": {},
   "outputs": [
    {
     "name": "stdout",
     "output_type": "stream",
     "text": [
      "the capital of spain is madrid\n",
      "the capital of france is paris\n",
      "the capital of germany is berlin\n",
      "the capital of norway is oslo\n",
      "the capital of italy is rome\n",
      "the capital of poland is warsaw\n",
      "the capital of austria is vienna\n"
     ]
    }
   ],
   "source": [
    "# Definition of dictionary\n",
    "europe = {\n",
    "    'spain':'madrid', 'france':'paris', 'germany':'berlin',\n",
    "    'norway':'oslo', 'italy':'rome', 'poland':'warsaw',\n",
    "    'austria':'vienna'\n",
    "    }\n",
    "          \n",
    "# Iterate over europe\n",
    "for item in europe:\n",
    "    print(f\"the capital of {item} is {europe[item]}\")"
   ]
  },
  {
   "attachments": {},
   "cell_type": "markdown",
   "metadata": {},
   "source": [
    "## Case 2: NumPy array"
   ]
  },
  {
   "cell_type": "code",
   "execution_count": 2,
   "metadata": {},
   "outputs": [],
   "source": [
    "import numpy as np\n"
   ]
  },
  {
   "cell_type": "code",
   "execution_count": 3,
   "metadata": {},
   "outputs": [],
   "source": [
    "# Set data: height in cm, weight in kg\n",
    "height = [173, 175, 180, 178, 177, 185, 183, 182, 181, 179, 184, 182, 181, 178, 177, 176, 174, 173, 171, 170, 169, 168, 167, 166, 165]\n",
    "weight = [65.4, 59.2, 63.6, 88.4, 68.7, 74.1, 89.5, 83.1, 86.0, 66.9, 77.5, 69.1, 75.8, 80.4, 76.3, 66.8, 67.7, 69.1, 70.1, 72.3, 58.8, 59.8, 62.5, 68.9, 57.3]"
   ]
  },
  {
   "cell_type": "code",
   "execution_count": 4,
   "metadata": {},
   "outputs": [
    {
     "name": "stdout",
     "output_type": "stream",
     "text": [
      "np_player1 \n",
      " [[173.  175.  180.  178.  177.  185.  183.  182.  181.  179.  184.  182.\n",
      "  181.  178.  177.  176.  174.  173.  171.  170.  169.  168.  167.  166.\n",
      "  165. ]\n",
      " [ 65.4  59.2  63.6  88.4  68.7  74.1  89.5  83.1  86.   66.9  77.5  69.1\n",
      "   75.8  80.4  76.3  66.8  67.7  69.1  70.1  72.3  58.8  59.8  62.5  68.9\n",
      "   57.3]] \n",
      "\n",
      "np_player2 \n",
      " [[173 175 180 178 177 185 183 182 181 179 184 182 181 178 177 176 174 173\n",
      "  171 170 169 168 167 166 165]\n",
      " [ 65  59  63  88  68  74  89  83  86  66  77  69  75  80  76  66  67  69\n",
      "   70  72  58  59  62  68  57]] \n",
      "\n",
      "np_player3 \n",
      " [[173 175 180 178 177 185 183 182 181 179 184 182 181 178 177 176 174 173\n",
      "  171 170 169 168 167 166 165]\n",
      " [ 65  59  63  88  68  74  89  83  86  66  77  69  75  80  76  66  67  69\n",
      "   70  72  58  59  62  68  57]]\n"
     ]
    }
   ],
   "source": [
    "# We can make np_player from np_height and np_weight\n",
    "np_height = np.array(height)\n",
    "np_weight = np.array(weight)\n",
    "\n",
    "# np.array: each element is float type so that it has decimal point\n",
    "np_player1 = np.array([np_height, np_weight])\n",
    "print(\"np_player1\", \"\\n\", np_player1, \"\\n\")\n",
    "\n",
    "# Removing decimal point: dtype = int, or dtype = \"int16\" (you also can use \"int32\", \"int64\")\n",
    "np_player2 = np.array([np_height, np_weight], dtype = int)\n",
    "print(\"np_player2\", \"\\n\", np_player2, \"\\n\")\n",
    "\n",
    "# We also can use .astype(int) method to remove decimal point\n",
    "np_player3 = np.array([np_height, np_weight]).astype(int)\n",
    "print(\"np_player3\", \"\\n\", np_player3)"
   ]
  },
  {
   "cell_type": "code",
   "execution_count": 5,
   "metadata": {},
   "outputs": [
    {
     "name": "stdout",
     "output_type": "stream",
     "text": [
      "np_player_element_wise \n",
      " [[173.   65.4]\n",
      " [175.   59.2]\n",
      " [180.   63.6]\n",
      " [178.   88.4]\n",
      " [177.   68.7]\n",
      " [185.   74.1]\n",
      " [183.   89.5]\n",
      " [182.   83.1]\n",
      " [181.   86. ]\n",
      " [179.   66.9]\n",
      " [184.   77.5]\n",
      " [182.   69.1]\n",
      " [181.   75.8]\n",
      " [178.   80.4]\n",
      " [177.   76.3]\n",
      " [176.   66.8]\n",
      " [174.   67.7]\n",
      " [173.   69.1]\n",
      " [171.   70.1]\n",
      " [170.   72.3]\n",
      " [169.   58.8]\n",
      " [168.   59.8]\n",
      " [167.   62.5]\n",
      " [166.   68.9]\n",
      " [165.   57.3]] \n",
      "\n"
     ]
    }
   ],
   "source": [
    "# We also can create 2D numpy array from np_height and np_weight, in element-wise order\n",
    "np_player_element_wise = np.column_stack((height, weight))\n",
    "print(\"np_player_element_wise\", \"\\n\", np_player_element_wise, \"\\n\")"
   ]
  },
  {
   "cell_type": "code",
   "execution_count": 6,
   "metadata": {},
   "outputs": [
    {
     "name": "stdout",
     "output_type": "stream",
     "text": [
      "np_player_element_wise2 \n",
      " [[173  65]\n",
      " [175  59]\n",
      " [180  63]\n",
      " [178  88]\n",
      " [177  68]\n",
      " [185  74]\n",
      " [183  89]\n",
      " [182  83]\n",
      " [181  86]\n",
      " [179  66]\n",
      " [184  77]\n",
      " [182  69]\n",
      " [181  75]\n",
      " [178  80]\n",
      " [177  76]\n",
      " [176  66]\n",
      " [174  67]\n",
      " [173  69]\n",
      " [171  70]\n",
      " [170  72]\n",
      " [169  58]\n",
      " [168  59]\n",
      " [167  62]\n",
      " [166  68]\n",
      " [165  57]]\n"
     ]
    }
   ],
   "source": [
    "# If we want to remove decimal point, we can use .astype(int) method with np.column_stack\n",
    "# because it does not have dtype parameter\n",
    "np_player_element_wise2 = np.column_stack((height, weight)).astype(int)\n",
    "print(\"np_player_element_wise2\", \"\\n\", np_player_element_wise2)"
   ]
  },
  {
   "attachments": {},
   "cell_type": "markdown",
   "metadata": {},
   "source": [
    "## Case 3: Pandas DataFrame"
   ]
  },
  {
   "cell_type": "code",
   "execution_count": 7,
   "metadata": {},
   "outputs": [],
   "source": [
    "import pandas as pd"
   ]
  },
  {
   "cell_type": "code",
   "execution_count": 8,
   "metadata": {},
   "outputs": [
    {
     "name": "stdout",
     "output_type": "stream",
     "text": [
      "         country    capital    area  population\n",
      "BR        Brazil   Brasilia   8.516      200.40\n",
      "RU        Russia     Moscow  17.100      143.50\n",
      "IN         India  New Delhi   3.286     1252.00\n",
      "CH         China    Beijing   9.597     1357.00\n",
      "SA  South Africa   Pretoria   1.221       52.98\n"
     ]
    }
   ],
   "source": [
    "# Read brics.csv file\n",
    "brics = pd.read_csv(\"../brics.csv\", index_col = 0)\n",
    "print(brics)"
   ]
  },
  {
   "cell_type": "code",
   "execution_count": 9,
   "metadata": {},
   "outputs": [
    {
     "name": "stdout",
     "output_type": "stream",
     "text": [
      "country\n",
      "capital\n",
      "area\n",
      "population\n"
     ]
    }
   ],
   "source": [
    "for val in brics:\n",
    "    print(val)  # column name"
   ]
  },
  {
   "cell_type": "code",
   "execution_count": 10,
   "metadata": {},
   "outputs": [
    {
     "name": "stdout",
     "output_type": "stream",
     "text": [
      "BR\n",
      "country         Brazil\n",
      "capital       Brasilia\n",
      "area             8.516\n",
      "population       200.4\n",
      "Name: BR, dtype: object\n",
      "RU\n",
      "country       Russia\n",
      "capital       Moscow\n",
      "area            17.1\n",
      "population     143.5\n",
      "Name: RU, dtype: object\n",
      "IN\n",
      "country           India\n",
      "capital       New Delhi\n",
      "area              3.286\n",
      "population       1252.0\n",
      "Name: IN, dtype: object\n",
      "CH\n",
      "country         China\n",
      "capital       Beijing\n",
      "area            9.597\n",
      "population     1357.0\n",
      "Name: CH, dtype: object\n",
      "SA\n",
      "country       South Africa\n",
      "capital           Pretoria\n",
      "area                 1.221\n",
      "population           52.98\n",
      "Name: SA, dtype: object\n"
     ]
    }
   ],
   "source": [
    "# Explicitly print each column: .iterrows() method returns label and row\n",
    "for lab, row in brics.iterrows():\n",
    "    print(lab)\n",
    "    print(row)"
   ]
  },
  {
   "cell_type": "code",
   "execution_count": 11,
   "metadata": {},
   "outputs": [
    {
     "name": "stdout",
     "output_type": "stream",
     "text": [
      "BR: Brasilia\n",
      "RU: Moscow\n",
      "IN: New Delhi\n",
      "CH: Beijing\n",
      "SA: Pretoria\n"
     ]
    }
   ],
   "source": [
    "# Selective print: print only country and capital\n",
    "for lab, row in brics.iterrows():\n",
    "    print(f\"{lab}: {row['capital']}\")"
   ]
  },
  {
   "attachments": {},
   "cell_type": "markdown",
   "metadata": {},
   "source": [
    "### Vectorized operation with .apply() function"
   ]
  },
  {
   "cell_type": "code",
   "execution_count": 12,
   "metadata": {},
   "outputs": [
    {
     "name": "stdout",
     "output_type": "stream",
     "text": [
      "         country    capital    area  population  name_length\n",
      "BR        Brazil   Brasilia   8.516      200.40          6.0\n",
      "RU        Russia     Moscow  17.100      143.50          6.0\n",
      "IN         India  New Delhi   3.286     1252.00          5.0\n",
      "CH         China    Beijing   9.597     1357.00          5.0\n",
      "SA  South Africa   Pretoria   1.221       52.98         12.0\n"
     ]
    }
   ],
   "source": [
    "# Column addition: add new column \"name_length\" to brics\n",
    "for lab, row in brics.iterrows():\n",
    "    # Create series on every iteration\n",
    "    brics.loc[lab, \"name_length\"] = len(row[\"country\"])  # type: ignore because it is not defined in the original brics\n",
    "\n",
    "print(brics)"
   ]
  },
  {
   "cell_type": "code",
   "execution_count": 13,
   "metadata": {},
   "outputs": [
    {
     "name": "stdout",
     "output_type": "stream",
     "text": [
      "         country    capital    area  population  name_length\n",
      "BR        Brazil   Brasilia   8.516      200.40            6\n",
      "RU        Russia     Moscow  17.100      143.50            6\n",
      "IN         India  New Delhi   3.286     1252.00            5\n",
      "CH         China    Beijing   9.597     1357.00            5\n",
      "SA  South Africa   Pretoria   1.221       52.98           12\n"
     ]
    }
   ],
   "source": [
    "# Do the same process with .apply() method: element-wise\n",
    "brics[\"name_length\"] = brics[\"country\"].apply(len)\n",
    "print(brics)"
   ]
  },
  {
   "cell_type": "code",
   "execution_count": 14,
   "metadata": {},
   "outputs": [
    {
     "name": "stdout",
     "output_type": "stream",
     "text": [
      "         country    capital    area  population  name_length       COUNTRY\n",
      "BR        Brazil   Brasilia   8.516      200.40            6        BRAZIL\n",
      "RU        Russia     Moscow  17.100      143.50            6        RUSSIA\n",
      "IN         India  New Delhi   3.286     1252.00            5         INDIA\n",
      "CH         China    Beijing   9.597     1357.00            5         CHINA\n",
      "SA  South Africa   Pretoria   1.221       52.98           12  SOUTH AFRICA\n"
     ]
    }
   ],
   "source": [
    "# Uppercases: all strings in the country column\n",
    "for lab, row in brics.iterrows():\n",
    "    brics.loc[lab, \"COUNTRY\"] = row[\"country\"].upper()  # type: ignore\n",
    "\n",
    "print(brics)"
   ]
  },
  {
   "cell_type": "code",
   "execution_count": 15,
   "metadata": {},
   "outputs": [
    {
     "name": "stdout",
     "output_type": "stream",
     "text": [
      "         country    capital    area  population  name_length       COUNTRY\n",
      "BR        Brazil   Brasilia   8.516      200.40            6        brazil\n",
      "RU        Russia     Moscow  17.100      143.50            6        russia\n",
      "IN         India  New Delhi   3.286     1252.00            5         india\n",
      "CH         China    Beijing   9.597     1357.00            5         china\n",
      "SA  South Africa   Pretoria   1.221       52.98           12  south africa\n"
     ]
    }
   ],
   "source": [
    "# Lowercases: all strings in the country column\n",
    "brics[\"COUNTRY\"] = brics[\"country\"].apply(str.lower)\n",
    "print(brics)"
   ]
  },
  {
   "cell_type": "code",
   "execution_count": null,
   "metadata": {},
   "outputs": [],
   "source": []
  }
 ],
 "metadata": {
  "kernelspec": {
   "display_name": "Python 3",
   "language": "python",
   "name": "python3"
  },
  "language_info": {
   "codemirror_mode": {
    "name": "ipython",
    "version": 3
   },
   "file_extension": ".py",
   "mimetype": "text/x-python",
   "name": "python",
   "nbconvert_exporter": "python",
   "pygments_lexer": "ipython3",
   "version": "3.9.6"
  },
  "orig_nbformat": 4,
  "vscode": {
   "interpreter": {
    "hash": "31f2aee4e71d21fbe5cf8b01ff0e069b9275f58929596ceb00d14d90e3e16cd6"
   }
  }
 },
 "nbformat": 4,
 "nbformat_minor": 2
}
