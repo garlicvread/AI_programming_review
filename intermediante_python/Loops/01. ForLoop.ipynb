{
 "cells": [
  {
   "cell_type": "code",
   "execution_count": 7,
   "metadata": {},
   "outputs": [
    {
     "name": "stdout",
     "output_type": "stream",
     "text": [
      "Without f-string\n",
      "room 1: 11.25\n",
      "room 2: 18.0\n",
      "room 3: 20.0\n",
      "room 4: 10.75\n",
      "room 5: 9.5\n",
      "\n",
      "With f-string\n",
      "room 1: 11.25\n",
      "room 2: 18.0\n",
      "room 3: 20.0\n",
      "room 4: 10.75\n",
      "room 5: 9.5\n"
     ]
    }
   ],
   "source": [
    "# areas list\n",
    "areas = [11.25, 18.0, 20.0, 10.75, 9.50]\n",
    "\n",
    "# Code the for loop\n",
    "print(\"Without f-string\")\n",
    "for index, area in enumerate(areas):\n",
    "    # Use for index, area in enumerate(areas) to iterate over all elements in house.\n",
    "    \n",
    "    print(\"room \" + str(index + 1) + \": \" + str(area))\n",
    "\n",
    "print()\n",
    "\n",
    "print(\"With f-string\")\n",
    "for index, area in enumerate(areas):\n",
    "    print(f\"room {index + 1}: {area}\")"
   ]
  },
  {
   "attachments": {},
   "cell_type": "markdown",
   "metadata": {},
   "source": [
    "## Loop over list of lists\n",
    "Write a `for` loop that goes through each sublist of `house` and prints out `the x is y sqm`, where x is the name of the room and y is the area of the room."
   ]
  },
  {
   "cell_type": "code",
   "execution_count": 9,
   "metadata": {},
   "outputs": [
    {
     "name": "stdout",
     "output_type": "stream",
     "text": [
      "the hallway is 11.25 sqm\n",
      "the kitchen is 18.0 sqm\n",
      "the living room is 20.0 sqm\n",
      "the bedroom is 10.75 sqm\n",
      "the bathroom is 9.5 sqm\n"
     ]
    }
   ],
   "source": [
    "# house list of lists\n",
    "house = [\n",
    "    [\"hallway\", 11.25],\n",
    "    [\"kitchen\", 18.0],\n",
    "    [\"living room\", 20.0],\n",
    "    [\"bedroom\", 10.75],\n",
    "    [\"bathroom\", 9.50]\n",
    "    ]\n",
    "         \n",
    "# Building a for loop\n",
    "# print the result in for form of \"the x is y sqm\"\n",
    "for room, area in house:\n",
    "    print(f\"the {room} is {area} sqm\")"
   ]
  },
  {
   "cell_type": "code",
   "execution_count": null,
   "metadata": {},
   "outputs": [],
   "source": []
  }
 ],
 "metadata": {
  "kernelspec": {
   "display_name": "Python 3",
   "language": "python",
   "name": "python3"
  },
  "language_info": {
   "codemirror_mode": {
    "name": "ipython",
    "version": 3
   },
   "file_extension": ".py",
   "mimetype": "text/x-python",
   "name": "python",
   "nbconvert_exporter": "python",
   "pygments_lexer": "ipython3",
   "version": "3.9.6"
  },
  "orig_nbformat": 4,
  "vscode": {
   "interpreter": {
    "hash": "31f2aee4e71d21fbe5cf8b01ff0e069b9275f58929596ceb00d14d90e3e16cd6"
   }
  }
 },
 "nbformat": 4,
 "nbformat_minor": 2
}
